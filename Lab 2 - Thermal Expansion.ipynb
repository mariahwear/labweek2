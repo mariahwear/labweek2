{
 "cells": [
  {
   "cell_type": "markdown",
   "metadata": {},
   "source": [
    "# Mariah Wear\n",
    "January 25, 2019\n",
    "# Thermal Expansion Lab"
   ]
  },
  {
   "cell_type": "code",
   "execution_count": 17,
   "metadata": {},
   "outputs": [],
   "source": [
    "import numpy as np\n",
    "\n",
    "def rule3(errA,errB):\n",
    "    errQ = np.sqrt(errA**2+errB**2)\n",
    "    return errQ"
   ]
  },
  {
   "cell_type": "code",
   "execution_count": 2,
   "metadata": {},
   "outputs": [],
   "source": [
    "def rule4(Q,errA,A,m,errB,B,n,errC,C,o):\n",
    "    errQ = Q*np.sqrt((m*(errA/A))**2+((n*(errB/B))**2)+((o*(errC/C))**2))\n",
    "    return errQ"
   ]
  },
  {
   "cell_type": "code",
   "execution_count": 18,
   "metadata": {},
   "outputs": [
    {
     "name": "stdout",
     "output_type": "stream",
     "text": [
      "Cu_Alpha =  1.980486516756737e-05 1/degC\n",
      "Error_Cu_Alpha =  3.2306251876993337e-07 1/degC\n"
     ]
    }
   ],
   "source": [
    "def rule3(errA,errB):\n",
    "    errQ = np.sqrt(errA**2+errB**2)\n",
    "    return errQ\n",
    "\n",
    "errT_i = 0.02 #degC\n",
    "errT_f = 0.07 #degC\n",
    "\n",
    "err_Delta_T = rule3(errT_i,errT_f)\n",
    "\n",
    "#print(\"Error_Delta T = \",err_Delta_T, \"degC\")\n",
    "\n",
    "errL_dial_i =.00001\n",
    "errL_dial_f =.00001\n",
    "\n",
    "err_Dial_L = rule3(errL_dial_i,errL_dial_f)\n",
    "\n",
    "#print(\"Error_Dial_L = \",err_Dial_L, \"m\")\n",
    "\n",
    "def rule4(Q,errA,A,m,errB,B,n,errC,C,o):\n",
    "    errQ = Q*np.sqrt((m*(errA/A))**2+((n*(errB/B))**2)+((o*(errC/C))**2))\n",
    "    return errQ\n",
    "\n",
    "DelL = .00087 #m\n",
    "errDelL = err_Dial_L #m\n",
    "m = 1\n",
    "L = .6995 #m\n",
    "errL = .0005 #m\n",
    "n = -1\n",
    "Ti = 22.1 #degC\n",
    "Tf = 84.90 #degC\n",
    "DelT = (Tf - Ti)\n",
    "errDelT = err_Delta_T #degC\n",
    "o = -1\n",
    "alpha = DelL*L**-1*DelT**-1\n",
    "\n",
    "err_Cu_Alpha = rule4(alpha,errDelL,DelL,m,errL,L,n,errDelT,DelT,o)\n",
    "\n",
    "print(\"Cu_Alpha = \",alpha, \"1/degC\")\n",
    "print(\"Error_Cu_Alpha = \", err_Cu_Alpha, \"1/degC\")"
   ]
  },
  {
   "cell_type": "code",
   "execution_count": 19,
   "metadata": {},
   "outputs": [
    {
     "name": "stdout",
     "output_type": "stream",
     "text": [
      "Steel_Alpha =  1.4968139246461104e-05 1/degC\n",
      "Error_Steel_Alpha =  3.365854926262675e-07 1/degC\n"
     ]
    }
   ],
   "source": [
    "def rule3(errA,errB):\n",
    "    errQ = np.sqrt(errA**2+errB**2)\n",
    "    return errQ\n",
    "\n",
    "errT_i = 0.03 #degC\n",
    "errT_f = 0.06 #degC\n",
    "\n",
    "err_Delta_T = rule3(errT_i,errT_f)\n",
    "\n",
    "#print(\"Error_Delta T = \",err_Delta_T, \"degC\")\n",
    "\n",
    "errL_dial_i =.00001\n",
    "errL_dial_f =.00001\n",
    "\n",
    "err_Dial_L = rule3(errL_dial_i,errL_dial_f)\n",
    "\n",
    "#print(\"Error_Dial_L = \",err_Dial_L, \"m\")\n",
    "\n",
    "def rule4(Q,errA,A,m,errB,B,n,errC,C,o):\n",
    "    errQ = Q*np.sqrt((m*(errA/A))**2+((n*(errB/B))**2)+((o*(errC/C))**2))\n",
    "    return errQ\n",
    "\n",
    "DelL = .00063 #m\n",
    "errDelL = err_Dial_L #m\n",
    "m = 1\n",
    "L = .6980 #m\n",
    "errL = .0005 #m\n",
    "n = -1\n",
    "Ti = 24.96 #degC\n",
    "Tf = 85.26 #degC\n",
    "DelT = (Tf - Ti)\n",
    "errDelT = err_Delta_T #degC\n",
    "o = -1\n",
    "alpha = DelL*L**-1*DelT**-1\n",
    "\n",
    "err_Steel_Alpha = rule4(alpha,errDelL,DelL,m,errL,L,n,errDelT,DelT,o)\n",
    "\n",
    "print(\"Steel_Alpha = \",alpha, \"1/degC\")\n",
    "print(\"Error_Steel_Alpha = \", err_Steel_Alpha, \"1/degC\")"
   ]
  },
  {
   "cell_type": "code",
   "execution_count": 20,
   "metadata": {},
   "outputs": [
    {
     "name": "stdout",
     "output_type": "stream",
     "text": [
      "Al_Alpha =  2.7321593527231853e-05 1/degC\n",
      "Error_Al_Alpha =  3.2306251876993337e-07 1/degC\n"
     ]
    }
   ],
   "source": [
    "def rule3(errA,errB):\n",
    "    errQ = np.sqrt(errA**2+errB**2)\n",
    "    return errQ\n",
    "\n",
    "errT_i = 0.00 #degC\n",
    "errT_f = 0.07 #degC\n",
    "\n",
    "err_Delta_T = rule3(errT_i,errT_f)\n",
    "\n",
    "#print(\"Error_Delta T = \",err_Delta_T, \"degC\")\n",
    "\n",
    "errL_dial_i =.00001\n",
    "errL_dial_f =.00001\n",
    "\n",
    "err_Dial_L = rule3(errL_dial_i,errL_dial_f)\n",
    "\n",
    "#print(\"Error_Dial_L = \",err_Dial_L, \"m\")\n",
    "\n",
    "def rule4(Q,errA,A,m,errB,B,n,errC,C,o):\n",
    "    errQ = Q*np.sqrt((m*(errA/A))**2+((n*(errB/B))**2)+((o*(errC/C))**2))\n",
    "    return errQ\n",
    "\n",
    "DelL = .00116 #m\n",
    "errDelL = err_Dial_L #m\n",
    "m = 1\n",
    "L = .6990 #m\n",
    "errL = .0005 #m\n",
    "n = -1\n",
    "Ti = 26.38 #degC\n",
    "Tf = 87.12 #degC\n",
    "DelT = (Tf - Ti)\n",
    "errDelT = err_Delta_T #degC\n",
    "o = -1\n",
    "alpha = DelL*L**-1*DelT**-1\n",
    "\n",
    "err_Al_Alpha = rule4(alpha,errDelL,DelL,m,errL,L,n,errDelT,DelT,o)\n",
    "\n",
    "print(\"Al_Alpha = \",alpha, \"1/degC\")\n",
    "print(\"Error_Al_Alpha = \", err_Cu_Alpha, \"1/degC\")"
   ]
  },
  {
   "cell_type": "code",
   "execution_count": null,
   "metadata": {},
   "outputs": [],
   "source": []
  }
 ],
 "metadata": {
  "kernelspec": {
   "display_name": "Python 3",
   "language": "python",
   "name": "python3"
  },
  "language_info": {
   "codemirror_mode": {
    "name": "ipython",
    "version": 3
   },
   "file_extension": ".py",
   "mimetype": "text/x-python",
   "name": "python",
   "nbconvert_exporter": "python",
   "pygments_lexer": "ipython3",
   "version": "3.7.1"
  }
 },
 "nbformat": 4,
 "nbformat_minor": 2
}
